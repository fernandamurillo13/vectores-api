{
 "cells": [
  {
   "cell_type": "code",
   "execution_count": 12,
   "id": "210c30ac",
   "metadata": {},
   "outputs": [
    {
     "ename": "SyntaxError",
     "evalue": "invalid syntax (1120958601.py, line 1)",
     "output_type": "error",
     "traceback": [
      "\u001b[0;36m  File \u001b[0;32m\"/var/folders/yr/v9wxjt2d291f306xt_0v7f4c0000gn/T/ipykernel_2716/1120958601.py\"\u001b[0;36m, line \u001b[0;32m1\u001b[0m\n\u001b[0;31m    git init\u001b[0m\n\u001b[0m        ^\u001b[0m\n\u001b[0;31mSyntaxError\u001b[0m\u001b[0;31m:\u001b[0m invalid syntax\n"
     ]
    }
   ],
   "source": []
  },
  {
   "cell_type": "code",
   "execution_count": 1,
   "id": "c1b6896a",
   "metadata": {},
   "outputs": [
    {
     "name": "stdout",
     "output_type": "stream",
     "text": [
      "1.5707963267948966\n"
     ]
    },
    {
     "data": {
      "text/plain": [
       "6.123233995736766e-17"
      ]
     },
     "execution_count": 1,
     "metadata": {},
     "output_type": "execute_result"
    }
   ],
   "source": [
    "#Programa de suma de vectores! Solo se pueden sumar dos o tres.\n",
    "\n",
    "import math\n",
    "\n",
    "y = 90\n",
    "\n",
    "y2radians = (90*math.pi)/(180)\n",
    "\n",
    "print(y2radians)\n",
    "\n",
    "math.cos(y2radians)"
   ]
  },
  {
   "cell_type": "code",
   "execution_count": 2,
   "id": "f9742cee",
   "metadata": {},
   "outputs": [],
   "source": [
    "def fx(x, d): #la x es la fuerza o bien la distancia\n",
    "    d = (d*math.pi)/(180)\n",
    "    fx = math.cos(d)*x\n",
    "    return fx\n",
    "\n",
    "def fy(y,d):\n",
    "    d = (d*math.pi)/(180)\n",
    "    fy = math.sin(d)*y\n",
    "    return fy"
   ]
  },
  {
   "cell_type": "code",
   "execution_count": 10,
   "id": "7c21cf72",
   "metadata": {},
   "outputs": [
    {
     "name": "stdout",
     "output_type": "stream",
     "text": [
      "Introduzca la cantidad de vectores que busca sumar: 3\n",
      "Introduzca el valor de su vector: 400\n",
      "Introduzca el valor de su segundo vector: 820\n",
      "Introduzca el valor de su vector: 500\n",
      "Introduzca la dirección de su vector: 0\n",
      "Introduzca la dirección de su segundo vector: 270\n",
      "Introduzca la dirección de su tercer vector: 90\n",
      "Total en componente x:  399.9999999999999\n",
      "Total en componente y:  -320.0\n",
      "Necesita conocer la magnitud? (por favor, responda con si, sin acento, y en minúsculas)si\n",
      "512.2499389946278\n",
      "La magnitud es:  512.2499389946278 La dirección es:  -38.6598082540901\n"
     ]
    }
   ],
   "source": [
    "#Que introduzcan los valores de sus vectores, metodo analitico\n",
    "\n",
    "numero = int(input(\"Introduzca la cantidad de vectores que busca sumar: \"))\n",
    "\n",
    "\n",
    "\n",
    "if numero==2:\n",
    "    x1 = float(input(\"Introduzca el valor de su vector: \"))\n",
    "    x2 = float(input(\"Introduzca el valor de su segundo vector: \"))\n",
    "    d1 = float(input(\"Introduzca la dirección de su vector: \"))\n",
    "    d2 = float(input(\"Introduzca la dirección de su segundo vector: \"))\n",
    "    \n",
    "    frx = fx(x1,d1) + fx(x2,d2)\n",
    "    \n",
    "    print(\"Total en componente x: \", frx)\n",
    "    \n",
    "    fry = fy(x1,d1) +fy(x2,d2)\n",
    "    print(\"Total en componente y: \", fry)\n",
    "    \n",
    "if numero ==3:\n",
    "    x1 = float(input(\"Introduzca el valor de su vector: \"))\n",
    "    x2 = float(input(\"Introduzca el valor de su segundo vector: \"))\n",
    "    x3 = float(input(\"Introduzca el valor de su vector: \"))\n",
    "    d1 = float(input(\"Introduzca la dirección de su vector: \"))\n",
    "    d2 = float(input(\"Introduzca la dirección de su segundo vector: \"))\n",
    "    d3 = float(input(\"Introduzca la dirección de su tercer vector: \"))\n",
    "    \n",
    "    frx = fx(x1,d1) + fx(x2,d2) + fx(x3,d3)\n",
    "    \n",
    "    print(\"Total en componente x: \", frx)\n",
    "    \n",
    "    fry = fy(x1,d1) +fy(x2,d2)+fy(x3,d3)\n",
    "    print(\"Total en componente y: \", fry)\n",
    "    \n",
    "pregunta = str(input(\"Necesita conocer la magnitud? (por favor, responda con si, sin acento, y en minúsculas)\" ))\n",
    "    \n",
    "if pregunta == \"si\":\n",
    "    magnitud = ((frx)**2+(fry)**2)**(1/2)\n",
    "    print(magnitud)\n",
    "    raiz = math.sqrt(magnitud)\n",
    "    direccion = math.atan(fry/frx)\n",
    "    dirc = (direccion*180)/math.pi\n",
    "    print(\"La magnitud es: \", magnitud, \"La dirección es: \", dirc)\n",
    "    "
   ]
  },
  {
   "cell_type": "code",
   "execution_count": null,
   "id": "d8c5d28c",
   "metadata": {},
   "outputs": [],
   "source": []
  },
  {
   "cell_type": "code",
   "execution_count": null,
   "id": "c0f34f5d",
   "metadata": {},
   "outputs": [],
   "source": []
  },
  {
   "cell_type": "code",
   "execution_count": null,
   "id": "2539ad3e",
   "metadata": {},
   "outputs": [],
   "source": []
  }
 ],
 "metadata": {
  "kernelspec": {
   "display_name": "Python 3 (ipykernel)",
   "language": "python",
   "name": "python3"
  },
  "language_info": {
   "codemirror_mode": {
    "name": "ipython",
    "version": 3
   },
   "file_extension": ".py",
   "mimetype": "text/x-python",
   "name": "python",
   "nbconvert_exporter": "python",
   "pygments_lexer": "ipython3",
   "version": "3.9.13"
  }
 },
 "nbformat": 4,
 "nbformat_minor": 5
}
